{
 "cells": [
  {
   "cell_type": "code",
   "execution_count": 1,
   "id": "c02c3601",
   "metadata": {},
   "outputs": [
    {
     "name": "stdout",
     "output_type": "stream",
     "text": [
      "Defaulting to user installation because normal site-packages is not writeable\n",
      "Requirement already satisfied: selenium in c:\\users\\dell\\appdata\\roaming\\python\\python39\\site-packages (4.7.2)\n",
      "Requirement already satisfied: certifi>=2021.10.8 in c:\\programdata\\anaconda3\\lib\\site-packages (from selenium) (2022.9.14)\n",
      "Requirement already satisfied: trio~=0.17 in c:\\users\\dell\\appdata\\roaming\\python\\python39\\site-packages (from selenium) (0.22.0)\n",
      "Requirement already satisfied: trio-websocket~=0.9 in c:\\users\\dell\\appdata\\roaming\\python\\python39\\site-packages (from selenium) (0.9.2)\n",
      "Requirement already satisfied: urllib3[socks]~=1.26 in c:\\programdata\\anaconda3\\lib\\site-packages (from selenium) (1.26.11)\n",
      "Requirement already satisfied: attrs>=19.2.0 in c:\\programdata\\anaconda3\\lib\\site-packages (from trio~=0.17->selenium) (21.4.0)\n",
      "Requirement already satisfied: idna in c:\\programdata\\anaconda3\\lib\\site-packages (from trio~=0.17->selenium) (3.3)\n",
      "Requirement already satisfied: exceptiongroup>=1.0.0rc9 in c:\\users\\dell\\appdata\\roaming\\python\\python39\\site-packages (from trio~=0.17->selenium) (1.0.4)\n",
      "Requirement already satisfied: sortedcontainers in c:\\programdata\\anaconda3\\lib\\site-packages (from trio~=0.17->selenium) (2.4.0)\n",
      "Requirement already satisfied: cffi>=1.14 in c:\\programdata\\anaconda3\\lib\\site-packages (from trio~=0.17->selenium) (1.15.1)\n",
      "Requirement already satisfied: sniffio in c:\\programdata\\anaconda3\\lib\\site-packages (from trio~=0.17->selenium) (1.2.0)\n",
      "Requirement already satisfied: async-generator>=1.9 in c:\\users\\dell\\appdata\\roaming\\python\\python39\\site-packages (from trio~=0.17->selenium) (1.10)\n",
      "Requirement already satisfied: outcome in c:\\users\\dell\\appdata\\roaming\\python\\python39\\site-packages (from trio~=0.17->selenium) (1.2.0)\n",
      "Requirement already satisfied: wsproto>=0.14 in c:\\users\\dell\\appdata\\roaming\\python\\python39\\site-packages (from trio-websocket~=0.9->selenium) (1.2.0)\n",
      "Requirement already satisfied: PySocks!=1.5.7,<2.0,>=1.5.6 in c:\\programdata\\anaconda3\\lib\\site-packages (from urllib3[socks]~=1.26->selenium) (1.7.1)\n",
      "Requirement already satisfied: pycparser in c:\\programdata\\anaconda3\\lib\\site-packages (from cffi>=1.14->trio~=0.17->selenium) (2.21)\n",
      "Requirement already satisfied: h11<1,>=0.9.0 in c:\\users\\dell\\appdata\\roaming\\python\\python39\\site-packages (from wsproto>=0.14->trio-websocket~=0.9->selenium) (0.14.0)\n"
     ]
    }
   ],
   "source": [
    "!pip install selenium"
   ]
  },
  {
   "cell_type": "markdown",
   "id": "9408ef39",
   "metadata": {},
   "source": [
    "# Question no 09"
   ]
  },
  {
   "cell_type": "raw",
   "id": "4f766085",
   "metadata": {},
   "source": [
    "Q9: Write a python program to display list of respected former Prime Ministers of India(i.e. Name, Born-Dead,\n",
    "Term of office, Remarks) from https://www.jagranjosh.com/.\n",
    "This task will be done in following steps:\n",
    "1. First get the webpage https://www.jagranjosh.com/\n",
    "2. Then You have to click on the GK option\n",
    "3. Then click on the List of all Prime Ministers of India\n",
    "4. Then scrap the mentioned data and make the DataFrame.\n"
   ]
  },
  {
   "cell_type": "code",
   "execution_count": 32,
   "id": "3c4a44e2",
   "metadata": {},
   "outputs": [],
   "source": [
    "import selenium \n",
    "import pandas as pd\n",
    "from selenium import webdriver\n",
    "import warnings\n",
    "warnings.filterwarnings('ignore')\n",
    "from selenium.common.exceptions import StaleElementReferenceException, NoSuchElementException\n",
    "from selenium.webdriver.common.by import By\n",
    "import time\n",
    "\n",
    "#Lets first connect to the driver-\n",
    "driver = webdriver.Chrome(r\"chromedriver.exe\")\n",
    "\n",
    "#Opening the naukri page on automated chrome browser\n",
    "driver.get(\"https://www.jagranjosh.com/\")\n"
   ]
  },
  {
   "cell_type": "code",
   "execution_count": 33,
   "id": "803f5544",
   "metadata": {},
   "outputs": [],
   "source": [
    "# click on the gk_option.\n",
    "\n",
    "gk_option = driver.find_element(By.XPATH,\"/html/body/div[1]/div[1]/div/div[1]/div/div[6]/div/div[1]/header/div[3]/ul/li[9]/a\")\n",
    "gk_option.click()\n",
    "\n",
    "PmName_ = []\n",
    "Born_Dead_ = []\n",
    "Term_Of_Office_ = []\n",
    "Remarks_ = []"
   ]
  },
  {
   "cell_type": "code",
   "execution_count": 34,
   "id": "2c13fa87",
   "metadata": {},
   "outputs": [],
   "source": [
    "# click on the \"List of all Prime Ministers of India\"\n",
    "\n",
    "list_Of_PM = driver.find_element(By.XPATH,\"/html/body/div[1]/div/div/div[2]/div/div[10]/div/div/ul/li[2]/a\")\n",
    "list_Of_PM.click()\n"
   ]
  },
  {
   "cell_type": "code",
   "execution_count": 35,
   "id": "8ccfebbc",
   "metadata": {},
   "outputs": [
    {
     "name": "stdout",
     "output_type": "stream",
     "text": [
      "['Jawahar Lal Nehru'] ['(1889–1964)'] ['15 August 1947 to 27 May 1964'] ['The first prime minister of India and the longest-serving PM of India, the first to die in office.']\n",
      "\n",
      "\n",
      "\n",
      " 1 1 1 1\n"
     ]
    }
   ],
   "source": [
    "# scraping PmName_1\n",
    "PmName_tags1=driver.find_elements(By.XPATH,'//a[@href=\"https://www.jagranjosh.com/general-knowledge/jawaharlal-nehru-biography-1573652876-1\"]')\n",
    "for i in PmName_tags1[0:1]:\n",
    "    PmName1=i.text\n",
    "    PmName_.append(PmName1)\n",
    "    \n",
    "# scraping Born_Dead_1\n",
    "borndead_tags1=driver.find_elements(By.XPATH,'/html/body/div[1]/div[2]/div/div[2]/div/div[1]/div/div/div/div[4]/span/div[2]/table/tbody/tr[2]/td[3]/p')\n",
    "for i in borndead_tags1[0:1]:\n",
    "    borndead1=i.text\n",
    "    Born_Dead_.append(borndead1)\n",
    "    \n",
    "# scraping Term_Of_Office_1\n",
    "termoffice_tags1=driver.find_elements(By.XPATH,'/html/body/div[1]/div[2]/div/div[2]/div/div[1]/div/div/div/div[4]/span/div[2]/table/tbody/tr[2]/td[4]/p[1]/span')\n",
    "for i in termoffice_tags1[0:1]:\n",
    "    termoffice1=i.text\n",
    "    Term_Of_Office_.append(termoffice1)\n",
    "    \n",
    "# scraping Remarks_\n",
    "remarks_tags1=driver.find_elements(By.XPATH,'//td[@style=\"width: 145px; height: 121px;\"]')\n",
    "for i in remarks_tags1[0:1]:\n",
    "    remarks1=i.text\n",
    "    Remarks_.append(remarks1)\n",
    "    \n",
    "    \n",
    "    \n",
    "print(PmName_,Born_Dead_,Term_Of_Office_,Remarks_)   \n",
    "print(\"\\n\\n\\n\",len(PmName_),len(Born_Dead_),len(Term_Of_Office_),len(Remarks_))"
   ]
  },
  {
   "cell_type": "code",
   "execution_count": 36,
   "id": "1e984a34",
   "metadata": {},
   "outputs": [
    {
     "name": "stdout",
     "output_type": "stream",
     "text": [
      "['Jawahar Lal Nehru', 'Gulzarilal Nanda (Acting)']\n"
     ]
    }
   ],
   "source": [
    "# scraping PmName_2\n",
    "PmName_tags2=driver.find_elements(By.XPATH,'//td[@style=\"width: 150px; height: 80px;\"]')\n",
    "for i in PmName_tags2[0:1]:\n",
    "    PmName2=i.text\n",
    "    PmName_.append(PmName2)\n",
    "    \n",
    "print(PmName_)"
   ]
  },
  {
   "cell_type": "code",
   "execution_count": 37,
   "id": "9f47182a",
   "metadata": {},
   "outputs": [
    {
     "name": "stdout",
     "output_type": "stream",
     "text": [
      "['(1889–1964)', '(1898-1998)']\n"
     ]
    }
   ],
   "source": [
    "# scraping Born_Dead_2\n",
    "borndead_tags2=driver.find_elements(By.XPATH,'//td[@style=\"width: 105px; height: 80px;\"]')\n",
    "for i in borndead_tags2[0:1]:\n",
    "    borndead2=i.text\n",
    "    Born_Dead_.append(borndead2)\n",
    "    \n",
    "print(Born_Dead_)"
   ]
  },
  {
   "cell_type": "code",
   "execution_count": 38,
   "id": "ff0b65ff",
   "metadata": {},
   "outputs": [
    {
     "name": "stdout",
     "output_type": "stream",
     "text": [
      "['15 August 1947 to 27 May 1964', '27 May 1964 to 9 June 1964,']\n"
     ]
    }
   ],
   "source": [
    "    \n",
    "# scraping Term_Of_Office_2\n",
    "termoffice_tags1=driver.find_elements(By.XPATH,'/html/body/div[1]/div[2]/div/div[2]/div/div[1]/div/div/div/div[4]/span/div[2]/table/tbody/tr[3]/td[4]/p[1]/span')\n",
    "for i in termoffice_tags1[0:1]:\n",
    "    termoffice1=i.text\n",
    "    Term_Of_Office_.append(termoffice1)\n",
    "    \n",
    "print(Term_Of_Office_)"
   ]
  },
  {
   "cell_type": "code",
   "execution_count": 39,
   "id": "ce379c7b",
   "metadata": {},
   "outputs": [
    {
     "name": "stdout",
     "output_type": "stream",
     "text": [
      "['Jawahar Lal Nehru', 'Gulzarilal Nanda (Acting)'] ['(1889–1964)', '(1898-1998)'] ['15 August 1947 to 27 May 1964', '27 May 1964 to 9 June 1964,'] ['The first prime minister of India and the longest-serving PM of India, the first to die in office.', 'First acting PM of India']\n",
      "\n",
      "\n",
      "\n",
      " 2 2 2 2\n"
     ]
    }
   ],
   "source": [
    "    \n",
    "# scraping Remarks_2\n",
    "remarks_tags2=driver.find_elements(By.XPATH,'//td[@style=\"width: 145px; height: 80px;\"]')\n",
    "for i in remarks_tags2[0:1]:\n",
    "    remarks2=i.text\n",
    "    Remarks_.append(remarks2)\n",
    "    \n",
    "    \n",
    "    \n",
    "print(PmName_,Born_Dead_,Term_Of_Office_,Remarks_)   \n",
    "print(\"\\n\\n\\n\",len(PmName_),len(Born_Dead_),len(Term_Of_Office_),len(Remarks_))"
   ]
  },
  {
   "cell_type": "code",
   "execution_count": 40,
   "id": "a6a40e78",
   "metadata": {},
   "outputs": [
    {
     "data": {
      "text/html": [
       "<div>\n",
       "<style scoped>\n",
       "    .dataframe tbody tr th:only-of-type {\n",
       "        vertical-align: middle;\n",
       "    }\n",
       "\n",
       "    .dataframe tbody tr th {\n",
       "        vertical-align: top;\n",
       "    }\n",
       "\n",
       "    .dataframe thead th {\n",
       "        text-align: right;\n",
       "    }\n",
       "</style>\n",
       "<table border=\"1\" class=\"dataframe\">\n",
       "  <thead>\n",
       "    <tr style=\"text-align: right;\">\n",
       "      <th></th>\n",
       "      <th>Serial_Number</th>\n",
       "      <th>Pm_Name</th>\n",
       "      <th>BORN_DEAD_DATES</th>\n",
       "      <th>TERM_OF_OFFICE</th>\n",
       "      <th>REMARKS</th>\n",
       "    </tr>\n",
       "  </thead>\n",
       "  <tbody>\n",
       "    <tr>\n",
       "      <th>0</th>\n",
       "      <td>1</td>\n",
       "      <td>Jawahar Lal Nehru</td>\n",
       "      <td>(1889–1964)</td>\n",
       "      <td>15 August 1947 to 27 May 1964</td>\n",
       "      <td>The first prime minister of India and the long...</td>\n",
       "    </tr>\n",
       "    <tr>\n",
       "      <th>1</th>\n",
       "      <td>2</td>\n",
       "      <td>Gulzarilal Nanda (Acting)</td>\n",
       "      <td>(1898-1998)</td>\n",
       "      <td>27 May 1964 to 9 June 1964,</td>\n",
       "      <td>First acting PM of India</td>\n",
       "    </tr>\n",
       "  </tbody>\n",
       "</table>\n",
       "</div>"
      ],
      "text/plain": [
       "   Serial_Number                    Pm_Name BORN_DEAD_DATES  \\\n",
       "0              1          Jawahar Lal Nehru     (1889–1964)   \n",
       "1              2  Gulzarilal Nanda (Acting)     (1898-1998)   \n",
       "\n",
       "                  TERM_OF_OFFICE  \\\n",
       "0  15 August 1947 to 27 May 1964   \n",
       "1    27 May 1964 to 9 June 1964,   \n",
       "\n",
       "                                             REMARKS  \n",
       "0  The first prime minister of India and the long...  \n",
       "1                           First acting PM of India  "
      ]
     },
     "execution_count": 40,
     "metadata": {},
     "output_type": "execute_result"
    }
   ],
   "source": [
    "df=pd.DataFrame({'Serial_Number':range(1,3,1),'Pm_Name':PmName_,'BORN_DEAD_DATES':Born_Dead_,'TERM_OF_OFFICE':Term_Of_Office_,'REMARKS':Remarks_})\n",
    "df"
   ]
  },
  {
   "cell_type": "code",
   "execution_count": null,
   "id": "189005d1",
   "metadata": {},
   "outputs": [],
   "source": []
  }
 ],
 "metadata": {
  "kernelspec": {
   "display_name": "Python 3 (ipykernel)",
   "language": "python",
   "name": "python3"
  },
  "language_info": {
   "codemirror_mode": {
    "name": "ipython",
    "version": 3
   },
   "file_extension": ".py",
   "mimetype": "text/x-python",
   "name": "python",
   "nbconvert_exporter": "python",
   "pygments_lexer": "ipython3",
   "version": "3.9.13"
  }
 },
 "nbformat": 4,
 "nbformat_minor": 5
}
