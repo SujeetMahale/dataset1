{
 "cells": [
  {
   "cell_type": "code",
   "execution_count": 1,
   "id": "e711cba9",
   "metadata": {},
   "outputs": [
    {
     "name": "stdout",
     "output_type": "stream",
     "text": [
      "Defaulting to user installation because normal site-packages is not writeable\n",
      "Requirement already satisfied: selenium in c:\\users\\dell\\appdata\\roaming\\python\\python39\\site-packages (4.7.2)\n",
      "Requirement already satisfied: trio-websocket~=0.9 in c:\\users\\dell\\appdata\\roaming\\python\\python39\\site-packages (from selenium) (0.9.2)\n",
      "Requirement already satisfied: certifi>=2021.10.8 in c:\\programdata\\anaconda3\\lib\\site-packages (from selenium) (2022.9.14)\n",
      "Requirement already satisfied: trio~=0.17 in c:\\users\\dell\\appdata\\roaming\\python\\python39\\site-packages (from selenium) (0.22.0)\n",
      "Requirement already satisfied: urllib3[socks]~=1.26 in c:\\programdata\\anaconda3\\lib\\site-packages (from selenium) (1.26.11)\n",
      "Requirement already satisfied: outcome in c:\\users\\dell\\appdata\\roaming\\python\\python39\\site-packages (from trio~=0.17->selenium) (1.2.0)\n",
      "Requirement already satisfied: attrs>=19.2.0 in c:\\programdata\\anaconda3\\lib\\site-packages (from trio~=0.17->selenium) (21.4.0)\n",
      "Requirement already satisfied: async-generator>=1.9 in c:\\users\\dell\\appdata\\roaming\\python\\python39\\site-packages (from trio~=0.17->selenium) (1.10)\n",
      "Requirement already satisfied: sortedcontainers in c:\\programdata\\anaconda3\\lib\\site-packages (from trio~=0.17->selenium) (2.4.0)\n",
      "Requirement already satisfied: cffi>=1.14 in c:\\programdata\\anaconda3\\lib\\site-packages (from trio~=0.17->selenium) (1.15.1)\n",
      "Requirement already satisfied: sniffio in c:\\programdata\\anaconda3\\lib\\site-packages (from trio~=0.17->selenium) (1.2.0)\n",
      "Requirement already satisfied: exceptiongroup>=1.0.0rc9 in c:\\users\\dell\\appdata\\roaming\\python\\python39\\site-packages (from trio~=0.17->selenium) (1.0.4)\n",
      "Requirement already satisfied: idna in c:\\programdata\\anaconda3\\lib\\site-packages (from trio~=0.17->selenium) (3.3)\n",
      "Requirement already satisfied: wsproto>=0.14 in c:\\users\\dell\\appdata\\roaming\\python\\python39\\site-packages (from trio-websocket~=0.9->selenium) (1.2.0)\n",
      "Requirement already satisfied: PySocks!=1.5.7,<2.0,>=1.5.6 in c:\\programdata\\anaconda3\\lib\\site-packages (from urllib3[socks]~=1.26->selenium) (1.7.1)\n",
      "Requirement already satisfied: pycparser in c:\\programdata\\anaconda3\\lib\\site-packages (from cffi>=1.14->trio~=0.17->selenium) (2.21)\n",
      "Requirement already satisfied: h11<1,>=0.9.0 in c:\\users\\dell\\appdata\\roaming\\python\\python39\\site-packages (from wsproto>=0.14->trio-websocket~=0.9->selenium) (0.14.0)\n"
     ]
    }
   ],
   "source": [
    "!pip install selenium"
   ]
  },
  {
   "cell_type": "markdown",
   "id": "bbeddc85",
   "metadata": {},
   "source": [
    "# Question no 08"
   ]
  },
  {
   "cell_type": "raw",
   "id": "269b10a3",
   "metadata": {},
   "source": [
    ": Write a python program to scrape data for Top 1000 Quotes of All Time.\n",
    "The above task will be done in following steps:\n",
    "1.First get the webpage https://www.azquotes.com/\n",
    "2. Click on Top Quotes\n",
    "3. Than scrap a) Quote b) Author c) Type Of Quotes"
   ]
  },
  {
   "cell_type": "code",
   "execution_count": 39,
   "id": "ab8665d8",
   "metadata": {},
   "outputs": [],
   "source": [
    "import selenium \n",
    "import pandas as pd\n",
    "from selenium import webdriver\n",
    "import warnings\n",
    "warnings.filterwarnings('ignore')\n",
    "from selenium.common.exceptions import StaleElementReferenceException, NoSuchElementException\n",
    "from selenium.webdriver.common.by import By\n",
    "import time\n",
    "\n",
    "#Lets first connect to the driver-\n",
    "driver = webdriver.Chrome(r\"chromedriver.exe\")\n",
    "\n",
    "#Opening the naukri page on automated chrome browser\n",
    "driver.get(\"https://www.azquotes.com/\")\n"
   ]
  },
  {
   "cell_type": "code",
   "execution_count": 40,
   "id": "ad3dd694",
   "metadata": {},
   "outputs": [],
   "source": [
    "topquotes = driver.find_element(By.XPATH,\"/html/body/div[1]/div[1]/div[1]/div/div[3]/ul/li[5]/a\")\n",
    "topquotes.click()\n",
    "\n",
    "Quote_ = []\n",
    "Author_ = []\n",
    "Type_Of_Quotes = []"
   ]
  },
  {
   "cell_type": "code",
   "execution_count": 41,
   "id": "75618fdb",
   "metadata": {},
   "outputs": [
    {
     "name": "stdout",
     "output_type": "stream",
     "text": [
      "100 100 100\n"
     ]
    }
   ],
   "source": [
    "# Page no 01......................................................\n",
    "\n",
    "# scraping Quote_\n",
    "quote_tags=driver.find_elements(By.XPATH,'//a[@class=\"title\"]')\n",
    "for i in quote_tags[0:101]:\n",
    "    quote=i.text\n",
    "    Quote_.append(quote)\n",
    "    \n",
    "# scraping Author_\n",
    "author_tags=driver.find_elements(By.XPATH,'//div[@class=\"author\"]')\n",
    "for i in author_tags[0:101]:\n",
    "    author=i.text\n",
    "    Author_.append(author)\n",
    "    \n",
    "# scraping Type_Of_Quotes\n",
    "typequote_tags=driver.find_elements(By.XPATH,'//div[@class=\"tags\"]')\n",
    "for i in typequote_tags[0:101]:\n",
    "    typequote=i.text\n",
    "    Type_Of_Quotes.append(typequote)\n",
    "    \n",
    "print(len(Quote_),len(Author_),len(Type_Of_Quotes))\n",
    "\n"
   ]
  },
  {
   "cell_type": "code",
   "execution_count": 42,
   "id": "5a73591c",
   "metadata": {},
   "outputs": [
    {
     "name": "stdout",
     "output_type": "stream",
     "text": [
      "200 200 200\n"
     ]
    }
   ],
   "source": [
    "#Next Page no 02......................................................\n",
    "nextpage1 = driver.find_element(By.XPATH,\"/html/body/div[1]/div[2]/div/div/div/div[1]/div/div[3]/li[12]/a\")\n",
    "nextpage1.click()\n",
    "\n",
    "# scraping Quote_\n",
    "quote_tags1=driver.find_elements(By.XPATH,'//a[@class=\"title\"]')\n",
    "for i in quote_tags1[0:101]:\n",
    "    quote1=i.text\n",
    "    Quote_.append(quote1)\n",
    "    \n",
    "# scraping Author_\n",
    "author_tags1=driver.find_elements(By.XPATH,'//div[@class=\"author\"]')\n",
    "for i in author_tags1[0:101]:\n",
    "    author1=i.text\n",
    "    Author_.append(author1)\n",
    "    \n",
    "# scraping Type_Of_Quotes\n",
    "typequote_tags1=driver.find_elements(By.XPATH,'//div[@class=\"tags\"]')\n",
    "for i in typequote_tags1[0:101]:\n",
    "    typequote1=i.text\n",
    "    Type_Of_Quotes.append(typequote1)\n",
    "    \n",
    "print(len(Quote_),len(Author_),len(Type_Of_Quotes))\n",
    "\n"
   ]
  },
  {
   "cell_type": "code",
   "execution_count": 43,
   "id": "d4fd812b",
   "metadata": {},
   "outputs": [
    {
     "name": "stdout",
     "output_type": "stream",
     "text": [
      "300 300 300\n"
     ]
    }
   ],
   "source": [
    "\n",
    "#Next Page no 03......................................................\n",
    "nextpage2 = driver.find_element(By.XPATH,\"/html/body/div[1]/div[2]/div/div/div/div[1]/div/div[3]/li[12]/a\")\n",
    "nextpage2.click()\n",
    "\n",
    "# scraping Quote_\n",
    "quote_tags2=driver.find_elements(By.XPATH,'//a[@class=\"title\"]')\n",
    "for i in quote_tags2[0:101]:\n",
    "    quote2=i.text\n",
    "    Quote_.append(quote2)\n",
    "    \n",
    "# scraping Author_\n",
    "author_tags2=driver.find_elements(By.XPATH,'//div[@class=\"author\"]')\n",
    "for i in author_tags2[0:101]:\n",
    "    author2=i.text\n",
    "    Author_.append(author2)\n",
    "    \n",
    "# scraping Type_Of_Quotes\n",
    "typequote_tags2=driver.find_elements(By.XPATH,'//div[@class=\"tags\"]')\n",
    "for i in typequote_tags2[0:101]:\n",
    "    typequote2=i.text\n",
    "    Type_Of_Quotes.append(typequote2)\n",
    "    \n",
    "print(len(Quote_),len(Author_),len(Type_Of_Quotes))\n"
   ]
  },
  {
   "cell_type": "code",
   "execution_count": 44,
   "id": "b996e592",
   "metadata": {},
   "outputs": [
    {
     "name": "stdout",
     "output_type": "stream",
     "text": [
      "400 400 400\n"
     ]
    }
   ],
   "source": [
    "#Next Page no 04......................................................\n",
    "nextpage3 = driver.find_element(By.XPATH,\"/html/body/div[1]/div[2]/div/div/div/div[1]/div/div[3]/li[12]/a\")\n",
    "nextpage3.click()\n",
    "\n",
    "# scraping Quote_\n",
    "quote_tags3=driver.find_elements(By.XPATH,'//a[@class=\"title\"]')\n",
    "for i in quote_tags3[0:101]:\n",
    "    quote3=i.text\n",
    "    Quote_.append(quote3)\n",
    "    \n",
    "# scraping Author_\n",
    "author_tags3=driver.find_elements(By.XPATH,'//div[@class=\"author\"]')\n",
    "for i in author_tags3[0:101]:\n",
    "    author3=i.text\n",
    "    Author_.append(author3)\n",
    "    \n",
    "# scraping Type_Of_Quotes\n",
    "typequote_tags3=driver.find_elements(By.XPATH,'//div[@class=\"tags\"]')\n",
    "for i in typequote_tags3[0:101]:\n",
    "    typequote3=i.text\n",
    "    Type_Of_Quotes.append(typequote3)\n",
    "    \n",
    "print(len(Quote_),len(Author_),len(Type_Of_Quotes))\n",
    "\n"
   ]
  },
  {
   "cell_type": "code",
   "execution_count": 45,
   "id": "287c305e",
   "metadata": {},
   "outputs": [
    {
     "name": "stdout",
     "output_type": "stream",
     "text": [
      "500 500 500\n"
     ]
    }
   ],
   "source": [
    "#Next Page no 05......................................................\n",
    "nextpage4 = driver.find_element(By.XPATH,\"/html/body/div[1]/div[2]/div/div/div/div[1]/div/div[3]/li[12]/a\")\n",
    "nextpage4.click()\n",
    "\n",
    "# scraping Quote_\n",
    "quote_tags4=driver.find_elements(By.XPATH,'//a[@class=\"title\"]')\n",
    "for i in quote_tags4[0:101]:\n",
    "    quote4=i.text\n",
    "    Quote_.append(quote4)\n",
    "    \n",
    "# scraping Author_\n",
    "author_tags4=driver.find_elements(By.XPATH,'//div[@class=\"author\"]')\n",
    "for i in author_tags4[0:101]:\n",
    "    author4=i.text\n",
    "    Author_.append(author4)\n",
    "    \n",
    "# scraping Type_Of_Quotes\n",
    "typequote_tags4=driver.find_elements(By.XPATH,'//div[@class=\"tags\"]')\n",
    "for i in typequote_tags4[0:101]:\n",
    "    typequote4=i.text\n",
    "    Type_Of_Quotes.append(typequote4)\n",
    "    \n",
    "print(len(Quote_),len(Author_),len(Type_Of_Quotes))\n"
   ]
  },
  {
   "cell_type": "code",
   "execution_count": 46,
   "id": "d2fee547",
   "metadata": {},
   "outputs": [
    {
     "name": "stdout",
     "output_type": "stream",
     "text": [
      "600 600 600\n"
     ]
    }
   ],
   "source": [
    "#Next Page no 06......................................................\n",
    "nextpage5 = driver.find_element(By.XPATH,\"/html/body/div[1]/div[2]/div/div/div/div[1]/div/div[3]/li[12]/a\")\n",
    "nextpage5.click()\n",
    "\n",
    "# scraping Quote_\n",
    "quote_tags5=driver.find_elements(By.XPATH,'//a[@class=\"title\"]')\n",
    "for i in quote_tags5[0:101]:\n",
    "    quote5=i.text\n",
    "    Quote_.append(quote5)\n",
    "    \n",
    "# scraping Author_\n",
    "author_tags5=driver.find_elements(By.XPATH,'//div[@class=\"author\"]')\n",
    "for i in author_tags5[0:101]:\n",
    "    author5=i.text\n",
    "    Author_.append(author5)\n",
    "    \n",
    "# scraping Type_Of_Quotes\n",
    "typequote_tags5=driver.find_elements(By.XPATH,'//div[@class=\"tags\"]')\n",
    "for i in typequote_tags5[0:101]:\n",
    "    typequote5=i.text\n",
    "    Type_Of_Quotes.append(typequote5)\n",
    "    \n",
    "print(len(Quote_),len(Author_),len(Type_Of_Quotes))\n",
    "\n"
   ]
  },
  {
   "cell_type": "code",
   "execution_count": 47,
   "id": "d3e71db3",
   "metadata": {},
   "outputs": [
    {
     "name": "stdout",
     "output_type": "stream",
     "text": [
      "700 700 700\n"
     ]
    }
   ],
   "source": [
    "#Next Page no 07......................................................\n",
    "nextpage6 = driver.find_element(By.XPATH,\"/html/body/div[1]/div[2]/div/div/div/div[1]/div/div[3]/li[12]/a\")\n",
    "nextpage6.click()\n",
    "\n",
    "# scraping Quote_\n",
    "quote_tags6=driver.find_elements(By.XPATH,'//a[@class=\"title\"]')\n",
    "for i in quote_tags6[0:101]:\n",
    "    quote6=i.text\n",
    "    Quote_.append(quote6)\n",
    "    \n",
    "# scraping Author_\n",
    "author_tags6=driver.find_elements(By.XPATH,'//div[@class=\"author\"]')\n",
    "for i in author_tags6[0:101]:\n",
    "    author6=i.text\n",
    "    Author_.append(author6)\n",
    "    \n",
    "# scraping Type_Of_Quotes\n",
    "typequote_tags6=driver.find_elements(By.XPATH,'//div[@class=\"tags\"]')\n",
    "for i in typequote_tags6[0:101]:\n",
    "    typequote6=i.text\n",
    "    Type_Of_Quotes.append(typequote6)\n",
    "    \n",
    "print(len(Quote_),len(Author_),len(Type_Of_Quotes))"
   ]
  },
  {
   "cell_type": "code",
   "execution_count": 48,
   "id": "44b94dae",
   "metadata": {},
   "outputs": [
    {
     "name": "stdout",
     "output_type": "stream",
     "text": [
      "800 800 800\n"
     ]
    }
   ],
   "source": [
    "#Next Page no 08......................................................\n",
    "nextpage7 = driver.find_element(By.XPATH,\"/html/body/div[1]/div[2]/div/div/div/div[1]/div/div[3]/li[12]/a\")\n",
    "nextpage7.click()\n",
    "\n",
    "# scraping Quote_\n",
    "quote_tags7=driver.find_elements(By.XPATH,'//a[@class=\"title\"]')\n",
    "for i in quote_tags7[0:101]:\n",
    "    quote7=i.text\n",
    "    Quote_.append(quote7)\n",
    "    \n",
    "# scraping Author_\n",
    "author_tags7=driver.find_elements(By.XPATH,'//div[@class=\"author\"]')\n",
    "for i in author_tags7[0:101]:\n",
    "    author7=i.text\n",
    "    Author_.append(author7)\n",
    "    \n",
    "# scraping Type_Of_Quotes\n",
    "typequote_tags7=driver.find_elements(By.XPATH,'//div[@class=\"tags\"]')\n",
    "for i in typequote_tags7[0:101]:\n",
    "    typequote7=i.text\n",
    "    Type_Of_Quotes.append(typequote7)\n",
    "    \n",
    "print(len(Quote_),len(Author_),len(Type_Of_Quotes))\n"
   ]
  },
  {
   "cell_type": "code",
   "execution_count": 49,
   "id": "f804d505",
   "metadata": {},
   "outputs": [
    {
     "name": "stdout",
     "output_type": "stream",
     "text": [
      "900 900 900\n"
     ]
    }
   ],
   "source": [
    "#Next Page no 09......................................................\n",
    "nextpage8 = driver.find_element(By.XPATH,\"/html/body/div[1]/div[2]/div/div/div/div[1]/div/div[3]/li[12]/a\")\n",
    "nextpage8.click()\n",
    "\n",
    "# scraping Quote_\n",
    "quote_tags8=driver.find_elements(By.XPATH,'//a[@class=\"title\"]')\n",
    "for i in quote_tags8[0:101]:\n",
    "    quote8=i.text\n",
    "    Quote_.append(quote8)\n",
    "    \n",
    "# scraping Author_\n",
    "author_tags8=driver.find_elements(By.XPATH,'//div[@class=\"author\"]')\n",
    "for i in author_tags8[0:101]:\n",
    "    author8=i.text\n",
    "    Author_.append(author8)\n",
    "    \n",
    "# scraping Type_Of_Quotes\n",
    "typequote_tags8=driver.find_elements(By.XPATH,'//div[@class=\"tags\"]')\n",
    "for i in typequote_tags8[0:101]:\n",
    "    typequote8=i.text\n",
    "    Type_Of_Quotes.append(typequote8)\n",
    "    \n",
    "print(len(Quote_),len(Author_),len(Type_Of_Quotes))\n",
    "\n",
    "\n"
   ]
  },
  {
   "cell_type": "code",
   "execution_count": 50,
   "id": "def50c9c",
   "metadata": {},
   "outputs": [
    {
     "name": "stdout",
     "output_type": "stream",
     "text": [
      "1000 1000 1000\n"
     ]
    }
   ],
   "source": [
    "#Next Page no 10......................................................\n",
    "nextpage9 = driver.find_element(By.XPATH,\"/html/body/div[1]/div[2]/div/div/div/div[1]/div/div[3]/li[12]/a\")\n",
    "nextpage9.click()\n",
    "\n",
    "# scraping Quote_\n",
    "quote_tags9=driver.find_elements(By.XPATH,'//a[@class=\"title\"]')\n",
    "for i in quote_tags9[0:101]:\n",
    "    quote9=i.text\n",
    "    Quote_.append(quote9)\n",
    "    \n",
    "# scraping Author_\n",
    "author_tags9=driver.find_elements(By.XPATH,'//div[@class=\"author\"]')\n",
    "for i in author_tags9[0:101]:\n",
    "    author9=i.text\n",
    "    Author_.append(author9)\n",
    "    \n",
    "# scraping Type_Of_Quotes\n",
    "typequote_tags9=driver.find_elements(By.XPATH,'//div[@class=\"tags\"]')\n",
    "for i in typequote_tags9[0:101]:\n",
    "    typequote9=i.text\n",
    "    Type_Of_Quotes.append(typequote9)\n",
    "    \n",
    "print(len(Quote_),len(Author_),len(Type_Of_Quotes))\n",
    "\n"
   ]
  },
  {
   "cell_type": "code",
   "execution_count": 51,
   "id": "37c3b71f",
   "metadata": {},
   "outputs": [
    {
     "data": {
      "text/html": [
       "<div>\n",
       "<style scoped>\n",
       "    .dataframe tbody tr th:only-of-type {\n",
       "        vertical-align: middle;\n",
       "    }\n",
       "\n",
       "    .dataframe tbody tr th {\n",
       "        vertical-align: top;\n",
       "    }\n",
       "\n",
       "    .dataframe thead th {\n",
       "        text-align: right;\n",
       "    }\n",
       "</style>\n",
       "<table border=\"1\" class=\"dataframe\">\n",
       "  <thead>\n",
       "    <tr style=\"text-align: right;\">\n",
       "      <th></th>\n",
       "      <th>Serial_Number</th>\n",
       "      <th>QUOTE</th>\n",
       "      <th>AUTHOR</th>\n",
       "      <th>TYPE_OF_QUOTE</th>\n",
       "    </tr>\n",
       "  </thead>\n",
       "  <tbody>\n",
       "    <tr>\n",
       "      <th>0</th>\n",
       "      <td>1</td>\n",
       "      <td>The essence of strategy is choosing what not t...</td>\n",
       "      <td>Michael Porter</td>\n",
       "      <td>Essence, Deep Thought, Transcendentalism</td>\n",
       "    </tr>\n",
       "    <tr>\n",
       "      <th>1</th>\n",
       "      <td>2</td>\n",
       "      <td>One cannot and must not try to erase the past ...</td>\n",
       "      <td>Golda Meir</td>\n",
       "      <td>Inspiration, Past, Trying</td>\n",
       "    </tr>\n",
       "    <tr>\n",
       "      <th>2</th>\n",
       "      <td>3</td>\n",
       "      <td>Patriotism means to stand by the country. It d...</td>\n",
       "      <td>Theodore Roosevelt</td>\n",
       "      <td>Country, Peace, War</td>\n",
       "    </tr>\n",
       "    <tr>\n",
       "      <th>3</th>\n",
       "      <td>4</td>\n",
       "      <td>Death is something inevitable. When a man has ...</td>\n",
       "      <td>Nelson Mandela</td>\n",
       "      <td>Inspirational, Motivational, Death</td>\n",
       "    </tr>\n",
       "    <tr>\n",
       "      <th>4</th>\n",
       "      <td>5</td>\n",
       "      <td>You have to love a nation that celebrates its ...</td>\n",
       "      <td>Erma Bombeck</td>\n",
       "      <td>4th Of July, Food, Patriotic</td>\n",
       "    </tr>\n",
       "    <tr>\n",
       "      <th>...</th>\n",
       "      <td>...</td>\n",
       "      <td>...</td>\n",
       "      <td>...</td>\n",
       "      <td>...</td>\n",
       "    </tr>\n",
       "    <tr>\n",
       "      <th>995</th>\n",
       "      <td>996</td>\n",
       "      <td>Regret for the things we did can be tempered b...</td>\n",
       "      <td>Sydney J. Harris</td>\n",
       "      <td>Love, Inspirational, Motivational</td>\n",
       "    </tr>\n",
       "    <tr>\n",
       "      <th>996</th>\n",
       "      <td>997</td>\n",
       "      <td>America... just a nation of two hundred millio...</td>\n",
       "      <td>Hunter S. Thompson</td>\n",
       "      <td>Gun, Two, Qualms About</td>\n",
       "    </tr>\n",
       "    <tr>\n",
       "      <th>997</th>\n",
       "      <td>998</td>\n",
       "      <td>For every disciplined effort there is a multip...</td>\n",
       "      <td>Jim Rohn</td>\n",
       "      <td>Inspirational, Greatness, Best Effort</td>\n",
       "    </tr>\n",
       "    <tr>\n",
       "      <th>998</th>\n",
       "      <td>999</td>\n",
       "      <td>The spiritual journey is individual, highly pe...</td>\n",
       "      <td>Ram Dass</td>\n",
       "      <td>Spiritual, Truth, Yoga</td>\n",
       "    </tr>\n",
       "    <tr>\n",
       "      <th>999</th>\n",
       "      <td>1000</td>\n",
       "      <td>The mind is not a vessel to be filled but a fi...</td>\n",
       "      <td>Plutarch</td>\n",
       "      <td>Inspirational, Leadership, Education</td>\n",
       "    </tr>\n",
       "  </tbody>\n",
       "</table>\n",
       "<p>1000 rows × 4 columns</p>\n",
       "</div>"
      ],
      "text/plain": [
       "     Serial_Number                                              QUOTE  \\\n",
       "0                1  The essence of strategy is choosing what not t...   \n",
       "1                2  One cannot and must not try to erase the past ...   \n",
       "2                3  Patriotism means to stand by the country. It d...   \n",
       "3                4  Death is something inevitable. When a man has ...   \n",
       "4                5  You have to love a nation that celebrates its ...   \n",
       "..             ...                                                ...   \n",
       "995            996  Regret for the things we did can be tempered b...   \n",
       "996            997  America... just a nation of two hundred millio...   \n",
       "997            998  For every disciplined effort there is a multip...   \n",
       "998            999  The spiritual journey is individual, highly pe...   \n",
       "999           1000  The mind is not a vessel to be filled but a fi...   \n",
       "\n",
       "                 AUTHOR                             TYPE_OF_QUOTE  \n",
       "0        Michael Porter  Essence, Deep Thought, Transcendentalism  \n",
       "1            Golda Meir                 Inspiration, Past, Trying  \n",
       "2    Theodore Roosevelt                       Country, Peace, War  \n",
       "3        Nelson Mandela        Inspirational, Motivational, Death  \n",
       "4          Erma Bombeck              4th Of July, Food, Patriotic  \n",
       "..                  ...                                       ...  \n",
       "995    Sydney J. Harris         Love, Inspirational, Motivational  \n",
       "996  Hunter S. Thompson                    Gun, Two, Qualms About  \n",
       "997            Jim Rohn     Inspirational, Greatness, Best Effort  \n",
       "998            Ram Dass                    Spiritual, Truth, Yoga  \n",
       "999            Plutarch      Inspirational, Leadership, Education  \n",
       "\n",
       "[1000 rows x 4 columns]"
      ]
     },
     "execution_count": 51,
     "metadata": {},
     "output_type": "execute_result"
    }
   ],
   "source": [
    "\n",
    "df=pd.DataFrame({'Serial_Number':range(1,1001,1),'QUOTE':Quote_[:1001],'AUTHOR':Author_[:1001],'TYPE_OF_QUOTE':Type_Of_Quotes[:1001]})\n",
    "df"
   ]
  },
  {
   "cell_type": "code",
   "execution_count": null,
   "id": "8076fb6e",
   "metadata": {},
   "outputs": [],
   "source": []
  }
 ],
 "metadata": {
  "kernelspec": {
   "display_name": "Python 3 (ipykernel)",
   "language": "python",
   "name": "python3"
  },
  "language_info": {
   "codemirror_mode": {
    "name": "ipython",
    "version": 3
   },
   "file_extension": ".py",
   "mimetype": "text/x-python",
   "name": "python",
   "nbconvert_exporter": "python",
   "pygments_lexer": "ipython3",
   "version": "3.9.13"
  }
 },
 "nbformat": 4,
 "nbformat_minor": 5
}
