{
 "cells": [
  {
   "cell_type": "markdown",
   "id": "f74b9462",
   "metadata": {},
   "source": [
    "# *********TO PRINT ANY STATEMENT  *******"
   ]
  },
  {
   "cell_type": "raw",
   "id": "00f74789",
   "metadata": {},
   "source": [
    "#\n",
    "\n",
    "Note :- 1) We may use \"DOUBLE INVERTED\"Commas . "
   ]
  },
  {
   "cell_type": "code",
   "execution_count": 36,
   "id": "880f1cb3",
   "metadata": {},
   "outputs": [
    {
     "name": "stdout",
     "output_type": "stream",
     "text": [
      " HELLO , Guys ! \n"
     ]
    }
   ],
   "source": [
    "print(\" HELLO , Guys ! \")"
   ]
  },
  {
   "cell_type": "code",
   "execution_count": 40,
   "id": "f3cf7265",
   "metadata": {},
   "outputs": [
    {
     "name": "stdout",
     "output_type": "stream",
     "text": [
      " Hope ! you all are Doing Well . \n"
     ]
    }
   ],
   "source": [
    "print(' Hope ! you all are Doing Well . ' )"
   ]
  },
  {
   "cell_type": "raw",
   "id": "bd32553c",
   "metadata": {},
   "source": [
    "# \n",
    "\n",
    "Note :-2) We may also use 'SINGLE INVERTED' Commas."
   ]
  },
  {
   "cell_type": "markdown",
   "id": "e4fd70a2",
   "metadata": {},
   "source": [
    "# *****To Print any NUMBER Or an INTERGER Values***"
   ]
  },
  {
   "cell_type": "code",
   "execution_count": 23,
   "id": "f581c4f4",
   "metadata": {},
   "outputs": [
    {
     "name": "stdout",
     "output_type": "stream",
     "text": [
      "7987595941\n"
     ]
    }
   ],
   "source": [
    "print(\"7987595941\")"
   ]
  },
  {
   "cell_type": "code",
   "execution_count": 29,
   "id": "190cd463",
   "metadata": {},
   "outputs": [
    {
     "name": "stdout",
     "output_type": "stream",
     "text": [
      "7987595941\n"
     ]
    }
   ],
   "source": [
    "print('7987595941')"
   ]
  },
  {
   "cell_type": "markdown",
   "id": "30e1372a",
   "metadata": {},
   "source": [
    "# ******To Print any STATEMENT with the INTEGERS*******"
   ]
  },
  {
   "cell_type": "code",
   "execution_count": 1,
   "id": "a7952511",
   "metadata": {},
   "outputs": [
    {
     "name": "stdout",
     "output_type": "stream",
     "text": [
      "\"These is My Mobile Number :- 7987595941\" \n"
     ]
    }
   ],
   "source": [
    "print( '\"These is My Mobile Number :- 7987595941\" ')"
   ]
  },
  {
   "cell_type": "code",
   "execution_count": 57,
   "id": "6d2f224a",
   "metadata": {},
   "outputs": [
    {
     "name": "stdout",
     "output_type": "stream",
     "text": [
      " ' These is My Mobile Number :- 7987595941 ' \n"
     ]
    }
   ],
   "source": [
    "print( \" ' These is My Mobile Number :- 7987595941 ' \")"
   ]
  },
  {
   "cell_type": "code",
   "execution_count": 31,
   "id": "f470c0d2",
   "metadata": {},
   "outputs": [
    {
     "name": "stdout",
     "output_type": "stream",
     "text": [
      "Address :- C/o B.R Barde , Plot not :- 58 , Omkar Nagar , Near Shyadri Lawn, Nagpur , Pincode - 440022 ! .\n"
     ]
    }
   ],
   "source": [
    "print(\"Address :- C/o B.R Barde , Plot not :- 58 , Omkar Nagar , Near Shyadri Lawn, Nagpur , Pincode - 440022 ! .\")"
   ]
  },
  {
   "cell_type": "code",
   "execution_count": 33,
   "id": "1f9aa0b6",
   "metadata": {},
   "outputs": [
    {
     "name": "stdout",
     "output_type": "stream",
     "text": [
      " Hi guys , I have booked a Car with serial Number as MH-49-BB-8825  . \n"
     ]
    }
   ],
   "source": [
    "print( ' Hi guys , I have booked a Car with serial Number as MH-49-BB-8825  . ' )"
   ]
  },
  {
   "cell_type": "raw",
   "id": "557635a4",
   "metadata": {},
   "source": [
    "# \n",
    "\n",
    "Note :- 3) Without Single or Double Inverted Commas Your statement will not be Generated ."
   ]
  },
  {
   "cell_type": "code",
   "execution_count": 3,
   "id": "24241fdd",
   "metadata": {},
   "outputs": [
    {
     "ename": "NameError",
     "evalue": "name 'Hello' is not defined",
     "output_type": "error",
     "traceback": [
      "\u001b[1;31m---------------------------------------------------------------------------\u001b[0m",
      "\u001b[1;31mNameError\u001b[0m                                 Traceback (most recent call last)",
      "Input \u001b[1;32mIn [3]\u001b[0m, in \u001b[0;36m<cell line: 1>\u001b[1;34m()\u001b[0m\n\u001b[1;32m----> 1\u001b[0m \u001b[38;5;28mprint\u001b[39m(\u001b[43mHello\u001b[49m)\n",
      "\u001b[1;31mNameError\u001b[0m: name 'Hello' is not defined"
     ]
    }
   ],
   "source": [
    "print(Hello)"
   ]
  },
  {
   "cell_type": "code",
   "execution_count": 9,
   "id": "180db066",
   "metadata": {},
   "outputs": [
    {
     "ename": "SyntaxError",
     "evalue": "invalid syntax (2051890551.py, line 1)",
     "output_type": "error",
     "traceback": [
      "\u001b[1;36m  Input \u001b[1;32mIn [9]\u001b[1;36m\u001b[0m\n\u001b[1;33m    print( i love dogs )\u001b[0m\n\u001b[1;37m             ^\u001b[0m\n\u001b[1;31mSyntaxError\u001b[0m\u001b[1;31m:\u001b[0m invalid syntax\n"
     ]
    }
   ],
   "source": [
    "print( i love dogs )"
   ]
  },
  {
   "cell_type": "raw",
   "id": "2cc9da06",
   "metadata": {},
   "source": [
    "#\n",
    "\n",
    "Note :- 4) Miss-match of  Single or Double Inverted Commas ,  Your statement will not be Generated ."
   ]
  },
  {
   "cell_type": "code",
   "execution_count": 50,
   "id": "95fe4b08",
   "metadata": {},
   "outputs": [
    {
     "ename": "SyntaxError",
     "evalue": "EOL while scanning string literal (3150855777.py, line 1)",
     "output_type": "error",
     "traceback": [
      "\u001b[1;36m  Input \u001b[1;32mIn [50]\u001b[1;36m\u001b[0m\n\u001b[1;33m    print( \" i love my Car ' )\u001b[0m\n\u001b[1;37m                              ^\u001b[0m\n\u001b[1;31mSyntaxError\u001b[0m\u001b[1;31m:\u001b[0m EOL while scanning string literal\n"
     ]
    }
   ],
   "source": [
    "print( \" i love my Car ' )"
   ]
  },
  {
   "cell_type": "markdown",
   "id": "f2a61a18",
   "metadata": {},
   "source": [
    "# Some Basic Calculations "
   ]
  },
  {
   "cell_type": "code",
   "execution_count": 111,
   "id": "3f8928a3",
   "metadata": {},
   "outputs": [
    {
     "name": "stdout",
     "output_type": "stream",
     "text": [
      "15\n"
     ]
    }
   ],
   "source": [
    "x = 5 \n",
    "y = 10\n",
    "z = x + y \n",
    "print( z )"
   ]
  },
  {
   "cell_type": "code",
   "execution_count": 129,
   "id": "d277213a",
   "metadata": {},
   "outputs": [
    {
     "name": "stdout",
     "output_type": "stream",
     "text": [
      "-5\n"
     ]
    }
   ],
   "source": [
    "z = x - y \n",
    "print( z )"
   ]
  },
  {
   "cell_type": "code",
   "execution_count": 128,
   "id": "d68322bc",
   "metadata": {},
   "outputs": [
    {
     "name": "stdout",
     "output_type": "stream",
     "text": [
      "0.5\n"
     ]
    }
   ],
   "source": [
    "z = x / y ;\n",
    "print( z ) ;"
   ]
  },
  {
   "cell_type": "code",
   "execution_count": 114,
   "id": "5e111d81",
   "metadata": {},
   "outputs": [
    {
     "name": "stdout",
     "output_type": "stream",
     "text": [
      "50\n"
     ]
    }
   ],
   "source": [
    "x = 5 ; y = 10 ;\n",
    "z = x * y ;\n",
    "print( z ) ;"
   ]
  },
  {
   "cell_type": "code",
   "execution_count": 131,
   "id": "0ae7a0ea",
   "metadata": {},
   "outputs": [
    {
     "name": "stdout",
     "output_type": "stream",
     "text": [
      "3\n"
     ]
    }
   ],
   "source": [
    "x=19\n",
    "y=4\n",
    "z = x % y ;\n",
    "print( z ) ;"
   ]
  },
  {
   "cell_type": "code",
   "execution_count": 116,
   "id": "f64bc178",
   "metadata": {},
   "outputs": [
    {
     "name": "stdout",
     "output_type": "stream",
     "text": [
      "1\n"
     ]
    }
   ],
   "source": [
    "x = 10 ; y = 3 ;\n",
    "\n",
    "z = x % y ;\n",
    "print( z ) ;"
   ]
  },
  {
   "cell_type": "code",
   "execution_count": 117,
   "id": "737a9590",
   "metadata": {},
   "outputs": [
    {
     "name": "stdout",
     "output_type": "stream",
     "text": [
      "10\n"
     ]
    }
   ],
   "source": [
    "x=10 ;\n",
    "y=5 ;\n",
    "print (x)"
   ]
  },
  {
   "cell_type": "code",
   "execution_count": 118,
   "id": "98a44fb8",
   "metadata": {},
   "outputs": [
    {
     "name": "stdout",
     "output_type": "stream",
     "text": [
      "5\n"
     ]
    }
   ],
   "source": [
    "print(y)"
   ]
  },
  {
   "cell_type": "code",
   "execution_count": 119,
   "id": "6d4fc0f1",
   "metadata": {},
   "outputs": [
    {
     "name": "stdout",
     "output_type": "stream",
     "text": [
      "15\n"
     ]
    }
   ],
   "source": [
    "print(x+y)"
   ]
  },
  {
   "cell_type": "code",
   "execution_count": 120,
   "id": "8e0c437e",
   "metadata": {},
   "outputs": [
    {
     "name": "stdout",
     "output_type": "stream",
     "text": [
      " x+y\n"
     ]
    }
   ],
   "source": [
    "print(\" x+y\")"
   ]
  },
  {
   "cell_type": "code",
   "execution_count": 126,
   "id": "5bebbcf8",
   "metadata": {},
   "outputs": [
    {
     "name": "stdout",
     "output_type": "stream",
     "text": [
      " The Product of two number is =  50\n"
     ]
    }
   ],
   "source": [
    "print( \" The Product of two number is = \" ,x * y )"
   ]
  },
  {
   "cell_type": "code",
   "execution_count": 133,
   "id": "ff79ed74",
   "metadata": {},
   "outputs": [
    {
     "name": "stdout",
     "output_type": "stream",
     "text": [
      " The Value of Two number x & y is :-  16 & 7  , Respectively .\n"
     ]
    }
   ],
   "source": [
    "x=16\n",
    "y=7\n",
    "print ( \" The Value of Two number x & y is :- \" , x ,\"&\", y ,\" , Respectively .\")"
   ]
  }
 ],
 "metadata": {
  "kernelspec": {
   "display_name": "Python 3 (ipykernel)",
   "language": "python",
   "name": "python3"
  },
  "language_info": {
   "codemirror_mode": {
    "name": "ipython",
    "version": 3
   },
   "file_extension": ".py",
   "mimetype": "text/x-python",
   "name": "python",
   "nbconvert_exporter": "python",
   "pygments_lexer": "ipython3",
   "version": "3.9.12"
  }
 },
 "nbformat": 4,
 "nbformat_minor": 5
}
