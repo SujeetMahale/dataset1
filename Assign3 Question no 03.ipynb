{
 "cells": [
  {
   "cell_type": "code",
   "execution_count": 1,
   "id": "748a8812",
   "metadata": {},
   "outputs": [
    {
     "name": "stdout",
     "output_type": "stream",
     "text": [
      "Defaulting to user installation because normal site-packages is not writeable\n",
      "Requirement already satisfied: selenium in c:\\users\\dell\\appdata\\roaming\\python\\python39\\site-packages (4.7.2)\n",
      "Requirement already satisfied: urllib3[socks]~=1.26 in c:\\programdata\\anaconda3\\lib\\site-packages (from selenium) (1.26.11)\n",
      "Requirement already satisfied: trio~=0.17 in c:\\users\\dell\\appdata\\roaming\\python\\python39\\site-packages (from selenium) (0.22.0)\n",
      "Requirement already satisfied: certifi>=2021.10.8 in c:\\programdata\\anaconda3\\lib\\site-packages (from selenium) (2022.9.14)\n",
      "Requirement already satisfied: trio-websocket~=0.9 in c:\\users\\dell\\appdata\\roaming\\python\\python39\\site-packages (from selenium) (0.9.2)\n",
      "Requirement already satisfied: sniffio in c:\\programdata\\anaconda3\\lib\\site-packages (from trio~=0.17->selenium) (1.2.0)\n",
      "Requirement already satisfied: attrs>=19.2.0 in c:\\programdata\\anaconda3\\lib\\site-packages (from trio~=0.17->selenium) (21.4.0)\n",
      "Requirement already satisfied: exceptiongroup>=1.0.0rc9 in c:\\users\\dell\\appdata\\roaming\\python\\python39\\site-packages (from trio~=0.17->selenium) (1.0.4)\n",
      "Requirement already satisfied: async-generator>=1.9 in c:\\users\\dell\\appdata\\roaming\\python\\python39\\site-packages (from trio~=0.17->selenium) (1.10)\n",
      "Requirement already satisfied: cffi>=1.14 in c:\\programdata\\anaconda3\\lib\\site-packages (from trio~=0.17->selenium) (1.15.1)\n",
      "Requirement already satisfied: idna in c:\\programdata\\anaconda3\\lib\\site-packages (from trio~=0.17->selenium) (3.3)\n",
      "Requirement already satisfied: outcome in c:\\users\\dell\\appdata\\roaming\\python\\python39\\site-packages (from trio~=0.17->selenium) (1.2.0)\n",
      "Requirement already satisfied: sortedcontainers in c:\\programdata\\anaconda3\\lib\\site-packages (from trio~=0.17->selenium) (2.4.0)\n",
      "Requirement already satisfied: wsproto>=0.14 in c:\\users\\dell\\appdata\\roaming\\python\\python39\\site-packages (from trio-websocket~=0.9->selenium) (1.2.0)\n",
      "Requirement already satisfied: PySocks!=1.5.7,<2.0,>=1.5.6 in c:\\programdata\\anaconda3\\lib\\site-packages (from urllib3[socks]~=1.26->selenium) (1.7.1)\n",
      "Requirement already satisfied: pycparser in c:\\programdata\\anaconda3\\lib\\site-packages (from cffi>=1.14->trio~=0.17->selenium) (2.21)\n",
      "Requirement already satisfied: h11<1,>=0.9.0 in c:\\users\\dell\\appdata\\roaming\\python\\python39\\site-packages (from wsproto>=0.14->trio-websocket~=0.9->selenium) (0.14.0)\n"
     ]
    }
   ],
   "source": [
    "# Install selenium \n",
    "!pip install selenium\n"
   ]
  },
  {
   "cell_type": "code",
   "execution_count": 1,
   "id": "250167d9",
   "metadata": {},
   "outputs": [],
   "source": [
    "import selenium \n",
    "import pandas as pd\n",
    "from selenium import webdriver\n",
    "import warnings\n",
    "warnings.filterwarnings('ignore')\n",
    "from selenium.common.exceptions import StaleElementReferenceException, NoSuchElementException\n",
    "from selenium.webdriver.common.by import By\n",
    "import time\n",
    "import requests\n",
    "import urllib\n",
    "\n",
    "#Lets first connect to the driver-\n",
    "driver = webdriver.Chrome(r\"chromedriver.exe\")\n"
   ]
  },
  {
   "cell_type": "code",
   "execution_count": 2,
   "id": "5de8761c",
   "metadata": {},
   "outputs": [],
   "source": [
    "url = \"http://www.images.google.com/\"\n",
    "driver.get(url)"
   ]
  },
  {
   "cell_type": "code",
   "execution_count": 19,
   "id": "92b6bb38",
   "metadata": {},
   "outputs": [],
   "source": [
    "input_path = driver.find_element(By.XPATH,'//input[@class=\"gLFyf\"]')\n",
    "input_path.send_keys(\"fruits\")\n",
    "\n",
    "search = driver.find_element(By.XPATH,'//span[@class=\"z1asCe MZy1Rb\"]')\n",
    "search.click()"
   ]
  },
  {
   "cell_type": "code",
   "execution_count": 20,
   "id": "193df4e3",
   "metadata": {},
   "outputs": [],
   "source": [
    "Images_fruits = []\n",
    "Images_cars = []\n",
    "Images_cakes = []\n",
    "Images_machine_learning = []\n",
    "Images_guitar = []"
   ]
  },
  {
   "cell_type": "code",
   "execution_count": 21,
   "id": "5b142bdd",
   "metadata": {},
   "outputs": [],
   "source": [
    "image_tags=driver.find_elements(By.XPATH,'//img[@class=\"rg_i Q4LuWd\"]')\n",
    "for img in image_tags[0:10]:\n",
    "    image=img.get_attribute('src')\n",
    "    Images_fruits.append(image)"
   ]
  },
  {
   "cell_type": "code",
   "execution_count": 22,
   "id": "f8eb91e0",
   "metadata": {},
   "outputs": [
    {
     "name": "stdout",
     "output_type": "stream",
     "text": [
      "10\n"
     ]
    }
   ],
   "source": [
    "Images_fruits\n",
    "\n",
    "print(len(Images_fruits))"
   ]
  },
  {
   "cell_type": "code",
   "execution_count": 23,
   "id": "55802bc9",
   "metadata": {},
   "outputs": [],
   "source": [
    "# Retrieve and download the images.\n",
    "for i in range(10):\n",
    "    urllib.request.urlretrieve(str(Images_fruits[i]),\"sample_data_images/assign3_Q3/fruits_10img/fruits{}.jpg\".format(i))\n",
    "    "
   ]
  },
  {
   "cell_type": "code",
   "execution_count": 24,
   "id": "260d2f41",
   "metadata": {},
   "outputs": [],
   "source": [
    "# It is used to clear the input given , from the searc bar.\n",
    "clear_bar = driver.find_element(By.XPATH,'//input[@class=\"og3lId\"]')\n",
    "clear_bar.clear()    "
   ]
  },
  {
   "cell_type": "code",
   "execution_count": 25,
   "id": "35c52178",
   "metadata": {},
   "outputs": [],
   "source": [
    "def passkeyswords():\n",
    "    input_path = driver.find_element(By.XPATH,'//input[@class=\"og3lId\"]')\n",
    "    input_path.send_keys(\"cars\")\n",
    "\n",
    "passkeyswords()\n",
    "\n",
    "def clicksearchbutton():\n",
    "    search = driver.find_element(By.XPATH,'//div[@class=\"XZ5MVe\"]')\n",
    "    search.click()\n",
    "\n",
    "clicksearchbutton()"
   ]
  },
  {
   "cell_type": "code",
   "execution_count": 26,
   "id": "476d9f92",
   "metadata": {},
   "outputs": [],
   "source": [
    "image_tags=driver.find_elements(By.XPATH,'//img[@class=\"rg_i Q4LuWd\"]')\n",
    "for img in image_tags[0:10]:\n",
    "    image=img.get_attribute('src')\n",
    "    Images_cars.append(image)"
   ]
  },
  {
   "cell_type": "code",
   "execution_count": 27,
   "id": "213d046a",
   "metadata": {},
   "outputs": [
    {
     "name": "stdout",
     "output_type": "stream",
     "text": [
      "10\n"
     ]
    }
   ],
   "source": [
    "Images_cars\n",
    "\n",
    "print(len(Images_cars))"
   ]
  },
  {
   "cell_type": "code",
   "execution_count": 28,
   "id": "e9a9f234",
   "metadata": {},
   "outputs": [],
   "source": [
    "# Retrieve and download the images.\n",
    "for i in range(10):\n",
    "    urllib.request.urlretrieve(str(Images_cars[i]),\"sample_data_images/assign3_Q3/cars_10img/cars{}.jpg\".format(i))\n",
    "    "
   ]
  },
  {
   "cell_type": "code",
   "execution_count": 29,
   "id": "fa2d55ca",
   "metadata": {},
   "outputs": [],
   "source": [
    "# It is used to clear the input given , from the searc bar.\n",
    "clear_bar = driver.find_element(By.XPATH,'//input[@class=\"og3lId\"]')\n",
    "clear_bar.clear()   \n",
    "\n",
    "def passkeyswords():\n",
    "    input_path = driver.find_element(By.XPATH,'//input[@class=\"og3lId\"]')\n",
    "    input_path.send_keys(\"Machine learning\")\n",
    "\n",
    "passkeyswords()\n",
    "\n",
    "def clicksearchbutton():\n",
    "    search = driver.find_element(By.XPATH,'//div[@class=\"XZ5MVe\"]')\n",
    "    search.click()\n",
    "\n",
    "clicksearchbutton()"
   ]
  },
  {
   "cell_type": "code",
   "execution_count": 30,
   "id": "aa7413fb",
   "metadata": {},
   "outputs": [
    {
     "name": "stdout",
     "output_type": "stream",
     "text": [
      "10\n"
     ]
    }
   ],
   "source": [
    "image_tags=driver.find_elements(By.XPATH,'//img[@class=\"rg_i Q4LuWd\"]')\n",
    "for img in image_tags[0:10]:\n",
    "    image=img.get_attribute('src')\n",
    "    Images_machine_learning.append(image)\n",
    "    \n",
    "Images_machine_learning\n",
    "\n",
    "print(len(Images_machine_learning))\n",
    "\n",
    "\n",
    "# Retrieve and download the images.\n",
    "for i in range(10):\n",
    "    urllib.request.urlretrieve(str(Images_machine_learning[i]),\"sample_data_images/assign3_Q3/Machine_Learning_10img/ML{}.jpg\".format(i))\n",
    "    "
   ]
  },
  {
   "cell_type": "code",
   "execution_count": 31,
   "id": "fc969c26",
   "metadata": {},
   "outputs": [],
   "source": [
    "# It is used to clear the input given , from the searc bar.\n",
    "clear_bar = driver.find_element(By.XPATH,'//input[@class=\"og3lId\"]')\n",
    "clear_bar.clear()   \n",
    "\n",
    "def passkeyswords():\n",
    "    input_path = driver.find_element(By.XPATH,'//input[@class=\"og3lId\"]')\n",
    "    input_path.send_keys(\"Guitar\")\n",
    "\n",
    "passkeyswords()\n",
    "\n",
    "def clicksearchbutton():\n",
    "    search = driver.find_element(By.XPATH,'//div[@class=\"XZ5MVe\"]')\n",
    "    search.click()\n",
    "\n",
    "clicksearchbutton()"
   ]
  },
  {
   "cell_type": "code",
   "execution_count": 32,
   "id": "154faaed",
   "metadata": {},
   "outputs": [
    {
     "name": "stdout",
     "output_type": "stream",
     "text": [
      "10\n"
     ]
    }
   ],
   "source": [
    "image_tags=driver.find_elements(By.XPATH,'//img[@class=\"rg_i Q4LuWd\"]')\n",
    "for img in image_tags[0:10]:\n",
    "    image=img.get_attribute('src')\n",
    "    Images_guitar.append(image)\n",
    "    \n",
    "Images_guitar\n",
    "\n",
    "print(len(Images_guitar))\n",
    "\n",
    "\n",
    "# Retrieve and download the images.\n",
    "for i in range(10):\n",
    "    urllib.request.urlretrieve(str(Images_guitar[i]),\"sample_data_images/assign3_Q3/Guitar_10img/guitar{}.jpg\".format(i))\n",
    "    "
   ]
  },
  {
   "cell_type": "code",
   "execution_count": 33,
   "id": "70f2ef55",
   "metadata": {},
   "outputs": [],
   "source": [
    "# It is used to clear the input given , from the searc bar.\n",
    "clear_bar = driver.find_element(By.XPATH,'//input[@class=\"og3lId\"]')\n",
    "clear_bar.clear()   \n",
    "\n",
    "def passkeyswords():\n",
    "    input_path = driver.find_element(By.XPATH,'//input[@class=\"og3lId\"]')\n",
    "    input_path.send_keys(\"cakes\")\n",
    "\n",
    "passkeyswords()\n",
    "\n",
    "def clicksearchbutton():\n",
    "    search = driver.find_element(By.XPATH,'//div[@class=\"XZ5MVe\"]')\n",
    "    search.click()\n",
    "\n",
    "clicksearchbutton()"
   ]
  },
  {
   "cell_type": "code",
   "execution_count": 34,
   "id": "f2aa3f38",
   "metadata": {},
   "outputs": [
    {
     "name": "stdout",
     "output_type": "stream",
     "text": [
      "10\n"
     ]
    }
   ],
   "source": [
    "image_tags=driver.find_elements(By.XPATH,'//img[@class=\"rg_i Q4LuWd\"]')\n",
    "for img in image_tags[0:10]:\n",
    "    image=img.get_attribute('src')\n",
    "    Images_cakes.append(image)\n",
    "    \n",
    "Images_cakes\n",
    "\n",
    "print(len(Images_cakes))\n",
    "\n",
    "\n",
    "# Retrieve and download the images.\n",
    "for i in range(10):\n",
    "    urllib.request.urlretrieve(str(Images_cakes[i]),\"sample_data_images/assign3_Q3/cakes_10img/cakes{}.jpg\".format(i))\n",
    "    "
   ]
  },
  {
   "cell_type": "code",
   "execution_count": 35,
   "id": "ed1bd986",
   "metadata": {},
   "outputs": [
    {
     "name": "stdout",
     "output_type": "stream",
     "text": [
      "10 10 10 10 10\n"
     ]
    }
   ],
   "source": [
    "print(len(Images_fruits),len(Images_cars),len(Images_cakes),len(Images_guitar),len(Images_machine_learning))"
   ]
  },
  {
   "cell_type": "code",
   "execution_count": null,
   "id": "32257732",
   "metadata": {},
   "outputs": [],
   "source": []
  }
 ],
 "metadata": {
  "kernelspec": {
   "display_name": "Python 3 (ipykernel)",
   "language": "python",
   "name": "python3"
  },
  "language_info": {
   "codemirror_mode": {
    "name": "ipython",
    "version": 3
   },
   "file_extension": ".py",
   "mimetype": "text/x-python",
   "name": "python",
   "nbconvert_exporter": "python",
   "pygments_lexer": "ipython3",
   "version": "3.9.13"
  }
 },
 "nbformat": 4,
 "nbformat_minor": 5
}
