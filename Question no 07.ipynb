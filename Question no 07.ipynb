{
 "cells": [
  {
   "cell_type": "code",
   "execution_count": 1,
   "id": "db2baefd",
   "metadata": {},
   "outputs": [
    {
     "name": "stdout",
     "output_type": "stream",
     "text": [
      "Defaulting to user installation because normal site-packages is not writeable\n",
      "Requirement already satisfied: selenium in c:\\users\\dell\\appdata\\roaming\\python\\python39\\site-packages (4.7.2)\n",
      "Requirement already satisfied: trio-websocket~=0.9 in c:\\users\\dell\\appdata\\roaming\\python\\python39\\site-packages (from selenium) (0.9.2)\n",
      "Requirement already satisfied: urllib3[socks]~=1.26 in c:\\programdata\\anaconda3\\lib\\site-packages (from selenium) (1.26.11)\n",
      "Requirement already satisfied: certifi>=2021.10.8 in c:\\programdata\\anaconda3\\lib\\site-packages (from selenium) (2022.9.14)\n",
      "Requirement already satisfied: trio~=0.17 in c:\\users\\dell\\appdata\\roaming\\python\\python39\\site-packages (from selenium) (0.22.0)\n",
      "Requirement already satisfied: sortedcontainers in c:\\programdata\\anaconda3\\lib\\site-packages (from trio~=0.17->selenium) (2.4.0)\n",
      "Requirement already satisfied: async-generator>=1.9 in c:\\users\\dell\\appdata\\roaming\\python\\python39\\site-packages (from trio~=0.17->selenium) (1.10)\n",
      "Requirement already satisfied: idna in c:\\programdata\\anaconda3\\lib\\site-packages (from trio~=0.17->selenium) (3.3)\n",
      "Requirement already satisfied: cffi>=1.14 in c:\\programdata\\anaconda3\\lib\\site-packages (from trio~=0.17->selenium) (1.15.1)\n",
      "Requirement already satisfied: exceptiongroup>=1.0.0rc9 in c:\\users\\dell\\appdata\\roaming\\python\\python39\\site-packages (from trio~=0.17->selenium) (1.0.4)\n",
      "Requirement already satisfied: attrs>=19.2.0 in c:\\programdata\\anaconda3\\lib\\site-packages (from trio~=0.17->selenium) (21.4.0)\n",
      "Requirement already satisfied: sniffio in c:\\programdata\\anaconda3\\lib\\site-packages (from trio~=0.17->selenium) (1.2.0)\n",
      "Requirement already satisfied: outcome in c:\\users\\dell\\appdata\\roaming\\python\\python39\\site-packages (from trio~=0.17->selenium) (1.2.0)\n",
      "Requirement already satisfied: wsproto>=0.14 in c:\\users\\dell\\appdata\\roaming\\python\\python39\\site-packages (from trio-websocket~=0.9->selenium) (1.2.0)\n",
      "Requirement already satisfied: PySocks!=1.5.7,<2.0,>=1.5.6 in c:\\programdata\\anaconda3\\lib\\site-packages (from urllib3[socks]~=1.26->selenium) (1.7.1)\n",
      "Requirement already satisfied: pycparser in c:\\programdata\\anaconda3\\lib\\site-packages (from cffi>=1.14->trio~=0.17->selenium) (2.21)\n",
      "Requirement already satisfied: h11<1,>=0.9.0 in c:\\users\\dell\\appdata\\roaming\\python\\python39\\site-packages (from wsproto>=0.14->trio-websocket~=0.9->selenium) (0.14.0)\n"
     ]
    }
   ],
   "source": [
    "!pip install selenium"
   ]
  },
  {
   "cell_type": "markdown",
   "id": "c00a8b70",
   "metadata": {},
   "source": [
    "# Question no 07"
   ]
  },
  {
   "cell_type": "raw",
   "id": "db51301a",
   "metadata": {},
   "source": [
    "Q7: Go to webpage https://www.amazon.in/\n",
    "Enter “Laptop” in the search field and then click the search icon.\n",
    "Then set CPU Type filter to “Intel Core i7” as shown in the below image:\n",
    "\n",
    "After setting the filters scrape first 10 laptops data. You have to scrape 3 attributes for each laptop:\n",
    "1. Title\n",
    "2. Ratings\n",
    "3. Price\n"
   ]
  },
  {
   "cell_type": "code",
   "execution_count": 13,
   "id": "8a3968d8",
   "metadata": {},
   "outputs": [],
   "source": [
    "import selenium \n",
    "import pandas as pd\n",
    "from selenium import webdriver\n",
    "import warnings\n",
    "warnings.filterwarnings('ignore')\n",
    "from selenium.common.exceptions import StaleElementReferenceException, NoSuchElementException\n",
    "from selenium.webdriver.common.by import By\n",
    "import time\n",
    "\n",
    "#Lets first connect to the driver-\n",
    "driver = webdriver.Chrome(r\"chromedriver.exe\")\n",
    "\n",
    "#Opening the amazon page on automated chrome browser\n",
    "driver.get(\"https://www.amazon.in/\")\n"
   ]
  },
  {
   "cell_type": "code",
   "execution_count": 14,
   "id": "92de21c6",
   "metadata": {},
   "outputs": [],
   "source": [
    "# entering \"Laptop\" in the search bar.\n",
    "laptop_ = driver.find_element(By.XPATH,\"/html/body/div[1]/header/div/div[1]/div[2]/div/form/div[2]/div[1]/input\")\n",
    "laptop_.send_keys(\"Laptop\")\n",
    "\n",
    "search = driver.find_element(By.XPATH,\"/html/body/div[1]/header/div/div[1]/div[2]/div/form/div[3]/div/span/input\")\n",
    "search.click()\n",
    "\n",
    "Title_ = []\n",
    "Rating_ = []\n",
    "Price_ = []\n"
   ]
  },
  {
   "cell_type": "code",
   "execution_count": 15,
   "id": "9b934b60",
   "metadata": {},
   "outputs": [],
   "source": [
    "# entering sunglasses in the search bar.\n",
    "cpu_type = driver.find_element(By.XPATH,\"/html/body/div[1]/div[2]/div[1]/div[2]/div/div[3]/span/div[1]/div/div/div[6]/ul[6]/li[11]/span/a/span\")\n",
    "cpu_type.click()"
   ]
  },
  {
   "cell_type": "code",
   "execution_count": 16,
   "id": "fed38c79",
   "metadata": {},
   "outputs": [
    {
     "name": "stdout",
     "output_type": "stream",
     "text": [
      "['Lenovo IdeaPad Slim 3 Intel Core i5 12th Gen 15.6\" (39.62cm) FHD Thin & Light Laptop (8GB/512GB SSD/Windows 11/Office 2021/Backlit/2Yr Warranty/3months Game Pass/Arctic Grey/1.63Kg), 82RK0062IN', 'Lenovo IdeaPad Slim 5 12th Gen Intel Core i5-1235U 15.6\" (39.62cm) FHD IPS Anti-Glare (16GB/512GB SDD/Windows 11/Office 2021/Backlit/1Yr Warranty/3months Game Pass/Storm Grey/1.85Kg), 82SF008YIN', 'Lenovo IdeaPad Slim 3 Intel Core i5 12th Gen 15.6\" (39.62cm) FHD Thin & Light Laptop (8GB/512GB SSD/Windows 11/Office 2021/Backlit/2Yr Warranty/3months Game Pass/Arctic Grey/1.63Kg), 82RK0062IN', 'Mi Notebook Pro QHD+ IPS Anti-Glare Display Intel Core I5-11300H 11th Gen 14 Inch Thin & Light Laptop (16GB/512GB SSD/Iris Xe Graphics/Windows 11 Home/MS Office 21/Backlit Keyboard/FP Sensor/1.4 Kg)', 'Acer Aspire 5 Gaming Laptop Intel Core i5 12th gen (12-Cores) Processor (16 GB/512 GB SSD/Windows 11 Home/4GB Graphics/NVIDIA GeForce RTX 2050) A515-57G (15.6 inch Full HD Display, Steel Gray, 1.8 Kg)', '(Renewed) Dell Latitude E5470 Intel Core i5 6th Gen.6200u Processor 14.1 Inches HD Screen Notebook Computer (8 GB Ram & 256 GB SSD, Windows 10 Pro, 1.71Kg)', 'Acer Extensa 15 Lightweight Laptop Intel Core i5 11th Gen Processor - (8 GB/ 512 GB SSD/ Windows 11 Home/ 1.7kg/ Black/ Elevated Hinge Design) EX215-54 with 39.6 cm (15.6 inches) FHD Display', 'Samsung Galaxy Book2 Intel 12th Gen core i5 39.6cm (15.6\") FHD LED Thin & Light Laptop (8 GB/512 GB SSD/Windows 11/MS Office/Backlit Keyboard/Finger Print Reader/Silver/1.55Kg), NP750XED-KC1IN', 'HP ProBook 440 G8 Notebook PC, 11th Gen Intel Core i5-1135G7 14 inch(35.6cm) HD Laptop(8GB RAM/512GB SSD/Intel Irix Xe Graphics/Win 11/Pike Silver Aluminium/1.38 Kg) - 6G9R3PA', 'HP 15s, 12th Gen Intel Core i5 16GB RAM/512GB SSD 15.6-inch(39.6 cm) Micro-Edge Anti-Glare FHD Laptop/Win 11/Intel Iris Xe Graphics/Dual Speakers/Alexa/Backlit KB/MSO/Fast Charge, 15s- fq5112TU', 'Dell Inspiron 3520 Laptop, Intel Core i5-1235U, 8GB, 512GB SSD, 15.6\" (39.62Cms) FHD WVA AG 120Hz 250 nits, Win 11 + MSO\\'21, Black (D560871WIN9B, 1.65Kgs)']\n",
      "11\n"
     ]
    }
   ],
   "source": [
    "# scraping Brand Name\n",
    "title_tags=driver.find_elements(By.XPATH,'//span[@class=\"a-size-medium a-color-base a-text-normal\"]')\n",
    "for i in title_tags[0:11]:\n",
    "    title=i.text\n",
    "    Title_.append(title)\n",
    "    \n",
    "print(Title_)\n",
    "print(len(Title_))"
   ]
  },
  {
   "cell_type": "code",
   "execution_count": 17,
   "id": "80f55a1f",
   "metadata": {},
   "outputs": [
    {
     "name": "stdout",
     "output_type": "stream",
     "text": [
      "['(4.0)', '(4.0)', '(4.0)', '(4.3)', '(3.9)', '(3.6)', '(4.0)', '(4.1)', '(3.6)', '(3.9)', '(3.0)']\n",
      "11\n"
     ]
    }
   ],
   "source": [
    "# scraping ProductDescription\n",
    "ratings_tags=driver.find_elements(By.XPATH,'//span[@class=\"a-size-base\"]')\n",
    "for i in ratings_tags[0:11]:\n",
    "    ratings=i.text\n",
    "    Rating_.append(ratings)\n",
    "    \n",
    "\n",
    "print(Rating_)\n",
    "print(len(Rating_))"
   ]
  },
  {
   "cell_type": "code",
   "execution_count": 18,
   "id": "87adf8dc",
   "metadata": {},
   "outputs": [
    {
     "name": "stdout",
     "output_type": "stream",
     "text": [
      "['57,490', '66,690', '57,490', '57,990', '60,990', '18,949', '40,990', '59,990', '50,990', '63,770', '56,000']\n",
      "11\n"
     ]
    }
   ],
   "source": [
    "# scraping Price\n",
    "price_tags=driver.find_elements(By.XPATH,'//span[@class=\"a-price-whole\"]')\n",
    "for i in price_tags[0:11]:\n",
    "    price=i.text\n",
    "    Price_.append(price)\n",
    "    \n",
    "print( Price_)\n",
    "print(len(Price_))"
   ]
  },
  {
   "cell_type": "code",
   "execution_count": 19,
   "id": "f3feef62",
   "metadata": {},
   "outputs": [
    {
     "data": {
      "text/html": [
       "<div>\n",
       "<style scoped>\n",
       "    .dataframe tbody tr th:only-of-type {\n",
       "        vertical-align: middle;\n",
       "    }\n",
       "\n",
       "    .dataframe tbody tr th {\n",
       "        vertical-align: top;\n",
       "    }\n",
       "\n",
       "    .dataframe thead th {\n",
       "        text-align: right;\n",
       "    }\n",
       "</style>\n",
       "<table border=\"1\" class=\"dataframe\">\n",
       "  <thead>\n",
       "    <tr style=\"text-align: right;\">\n",
       "      <th></th>\n",
       "      <th>Serial_Number</th>\n",
       "      <th>TITLE_Of_Product</th>\n",
       "      <th>RATING_OF_PRODUCT</th>\n",
       "      <th>PRICE_DETAILS</th>\n",
       "    </tr>\n",
       "  </thead>\n",
       "  <tbody>\n",
       "    <tr>\n",
       "      <th>0</th>\n",
       "      <td>1</td>\n",
       "      <td>Lenovo IdeaPad Slim 3 Intel Core i5 12th Gen 1...</td>\n",
       "      <td>(4.0)</td>\n",
       "      <td>57,490</td>\n",
       "    </tr>\n",
       "    <tr>\n",
       "      <th>1</th>\n",
       "      <td>2</td>\n",
       "      <td>Lenovo IdeaPad Slim 5 12th Gen Intel Core i5-1...</td>\n",
       "      <td>(4.0)</td>\n",
       "      <td>66,690</td>\n",
       "    </tr>\n",
       "    <tr>\n",
       "      <th>2</th>\n",
       "      <td>3</td>\n",
       "      <td>Lenovo IdeaPad Slim 3 Intel Core i5 12th Gen 1...</td>\n",
       "      <td>(4.0)</td>\n",
       "      <td>57,490</td>\n",
       "    </tr>\n",
       "    <tr>\n",
       "      <th>3</th>\n",
       "      <td>4</td>\n",
       "      <td>Mi Notebook Pro QHD+ IPS Anti-Glare Display In...</td>\n",
       "      <td>(4.3)</td>\n",
       "      <td>57,990</td>\n",
       "    </tr>\n",
       "    <tr>\n",
       "      <th>4</th>\n",
       "      <td>5</td>\n",
       "      <td>Acer Aspire 5 Gaming Laptop Intel Core i5 12th...</td>\n",
       "      <td>(3.9)</td>\n",
       "      <td>60,990</td>\n",
       "    </tr>\n",
       "    <tr>\n",
       "      <th>5</th>\n",
       "      <td>6</td>\n",
       "      <td>(Renewed) Dell Latitude E5470 Intel Core i5 6t...</td>\n",
       "      <td>(3.6)</td>\n",
       "      <td>18,949</td>\n",
       "    </tr>\n",
       "    <tr>\n",
       "      <th>6</th>\n",
       "      <td>7</td>\n",
       "      <td>Acer Extensa 15 Lightweight Laptop Intel Core ...</td>\n",
       "      <td>(4.0)</td>\n",
       "      <td>40,990</td>\n",
       "    </tr>\n",
       "    <tr>\n",
       "      <th>7</th>\n",
       "      <td>8</td>\n",
       "      <td>Samsung Galaxy Book2 Intel 12th Gen core i5 39...</td>\n",
       "      <td>(4.1)</td>\n",
       "      <td>59,990</td>\n",
       "    </tr>\n",
       "    <tr>\n",
       "      <th>8</th>\n",
       "      <td>9</td>\n",
       "      <td>HP ProBook 440 G8 Notebook PC, 11th Gen Intel ...</td>\n",
       "      <td>(3.6)</td>\n",
       "      <td>50,990</td>\n",
       "    </tr>\n",
       "    <tr>\n",
       "      <th>9</th>\n",
       "      <td>10</td>\n",
       "      <td>HP 15s, 12th Gen Intel Core i5 16GB RAM/512GB ...</td>\n",
       "      <td>(3.9)</td>\n",
       "      <td>63,770</td>\n",
       "    </tr>\n",
       "  </tbody>\n",
       "</table>\n",
       "</div>"
      ],
      "text/plain": [
       "   Serial_Number                                   TITLE_Of_Product  \\\n",
       "0              1  Lenovo IdeaPad Slim 3 Intel Core i5 12th Gen 1...   \n",
       "1              2  Lenovo IdeaPad Slim 5 12th Gen Intel Core i5-1...   \n",
       "2              3  Lenovo IdeaPad Slim 3 Intel Core i5 12th Gen 1...   \n",
       "3              4  Mi Notebook Pro QHD+ IPS Anti-Glare Display In...   \n",
       "4              5  Acer Aspire 5 Gaming Laptop Intel Core i5 12th...   \n",
       "5              6  (Renewed) Dell Latitude E5470 Intel Core i5 6t...   \n",
       "6              7  Acer Extensa 15 Lightweight Laptop Intel Core ...   \n",
       "7              8  Samsung Galaxy Book2 Intel 12th Gen core i5 39...   \n",
       "8              9  HP ProBook 440 G8 Notebook PC, 11th Gen Intel ...   \n",
       "9             10  HP 15s, 12th Gen Intel Core i5 16GB RAM/512GB ...   \n",
       "\n",
       "  RATING_OF_PRODUCT PRICE_DETAILS  \n",
       "0             (4.0)        57,490  \n",
       "1             (4.0)        66,690  \n",
       "2             (4.0)        57,490  \n",
       "3             (4.3)        57,990  \n",
       "4             (3.9)        60,990  \n",
       "5             (3.6)        18,949  \n",
       "6             (4.0)        40,990  \n",
       "7             (4.1)        59,990  \n",
       "8             (3.6)        50,990  \n",
       "9             (3.9)        63,770  "
      ]
     },
     "execution_count": 19,
     "metadata": {},
     "output_type": "execute_result"
    }
   ],
   "source": [
    "df=pd.DataFrame({'Serial_Number':range(1,11,1),'TITLE_Of_Product':Title_[0:10],'RATING_OF_PRODUCT':Rating_[0:10],'PRICE_DETAILS':Price_[0:10]})\n",
    "df"
   ]
  },
  {
   "cell_type": "code",
   "execution_count": null,
   "id": "25420110",
   "metadata": {},
   "outputs": [],
   "source": []
  }
 ],
 "metadata": {
  "kernelspec": {
   "display_name": "Python 3 (ipykernel)",
   "language": "python",
   "name": "python3"
  },
  "language_info": {
   "codemirror_mode": {
    "name": "ipython",
    "version": 3
   },
   "file_extension": ".py",
   "mimetype": "text/x-python",
   "name": "python",
   "nbconvert_exporter": "python",
   "pygments_lexer": "ipython3",
   "version": "3.9.13"
  }
 },
 "nbformat": 4,
 "nbformat_minor": 5
}
